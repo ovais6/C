{
  "nbformat": 4,
  "nbformat_minor": 0,
  "metadata": {
    "colab": {
      "name": "Untitled0.ipynb",
      "provenance": [],
      "include_colab_link": true
    },
    "kernelspec": {
      "name": "python3",
      "display_name": "Python 3"
    }
  },
  "cells": [
    {
      "cell_type": "markdown",
      "metadata": {
        "id": "view-in-github",
        "colab_type": "text"
      },
      "source": [
        "<a href=\"https://colab.research.google.com/github/ovais6/C/blob/master/FirstGoogleColab.ipynb\" target=\"_parent\"><img src=\"https://colab.research.google.com/assets/colab-badge.svg\" alt=\"Open In Colab\"/></a>"
      ]
    },
    {
      "cell_type": "markdown",
      "metadata": {
        "id": "8lSXuku5Kh55",
        "colab_type": "text"
      },
      "source": [
        "This is my first COLAB "
      ]
    },
    {
      "cell_type": "code",
      "metadata": {
        "id": "x5BCJ0wBGll3",
        "colab_type": "code",
        "colab": {
          "base_uri": "https://localhost:8080/",
          "height": 34
        },
        "outputId": "a0563366-0df9-40c5-f88f-bb47d92de4bc"
      },
      "source": [
        "print(\"hello world\")"
      ],
      "execution_count": 7,
      "outputs": [
        {
          "output_type": "stream",
          "text": [
            "hello world\n"
          ],
          "name": "stdout"
        }
      ]
    },
    {
      "cell_type": "code",
      "metadata": {
        "id": "hr5xp15KKxXE",
        "colab_type": "code",
        "colab": {
          "base_uri": "https://localhost:8080/",
          "height": 34
        },
        "outputId": "604f5b95-066d-49f6-dd44-35b17c0c38a2"
      },
      "source": [
        "no_of_seconds=60*60*24\n",
        "print(\"the nuumber of seconds in a day are:\",no_of_seconds )"
      ],
      "execution_count": 8,
      "outputs": [
        {
          "output_type": "stream",
          "text": [
            "the nuumber of seconds in a day are: 86400\n"
          ],
          "name": "stdout"
        }
      ]
    },
    {
      "cell_type": "code",
      "metadata": {
        "id": "yvj6KLZhLErc",
        "colab_type": "code",
        "colab": {
          "base_uri": "https://localhost:8080/",
          "height": 51
        },
        "outputId": "48ad3a39-dfeb-4b3a-ce78-47c0fc417347"
      },
      "source": [
        "no_of_seconds=60*60*24\n",
        "seconds_month=no_of_seconds*30\n",
        "print(\"The number of seconds in a 30 day month are\", seconds_month)\n",
        "seconds_year=seconds_month*12\n",
        "print(\"The number of seconds in an year are\",seconds_year+7*no_of_seconds)"
      ],
      "execution_count": 10,
      "outputs": [
        {
          "output_type": "stream",
          "text": [
            "The number of seconds in a 30 day month are 2592000\n",
            "the number of seconds in an year are 31708800\n"
          ],
          "name": "stdout"
        }
      ]
    }
  ]
}